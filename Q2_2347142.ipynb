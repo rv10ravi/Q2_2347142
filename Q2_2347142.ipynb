{
 "cells": [
  {
   "cell_type": "markdown",
   "metadata": {},
   "source": [
    "1. LIST\n",
    "Write a PYTHON script with List comprehension for the following\n",
    "• Is the given list divisible by 3 or NOT?\n",
    "• Square of even numbers in a list\n",
    "• Sum of digits of all EVEN numbers in a list\n",
    "• Remove duplicate numbers in a list"
   ]
  },
  {
   "cell_type": "code",
   "execution_count": 24,
   "metadata": {},
   "outputs": [
    {
     "name": "stdout",
     "output_type": "stream",
     "text": [
      "10 is not divisible by 3\n",
      "14 is not divisible by 3\n",
      "5 is not divisible by 3\n",
      "7 is not divisible by 3\n",
      "8 is not divisible by 3\n",
      "11 is not divisible by 3\n",
      "21 is divisible by 3\n",
      "45 is divisible by 3\n",
      "62 is not divisible by 3\n",
      "11 is not divisible by 3\n",
      "13 is not divisible by 3\n",
      "111 is divisible by 3\n",
      "9 is divisible by 3\n",
      "15 is divisible by 3\n",
      "10 is not divisible by 3\n",
      "8 is not divisible by 3\n",
      "87 is divisible by 3\n",
      "7 is not divisible by 3\n",
      "46 is not divisible by 3\n"
     ]
    }
   ],
   "source": [
    "#creating a list of book stock left in inventory\n",
    "book_Stock=[10,14,5,7,8,11,21,45,62,11,13,111,9,15,10,8,87,7,46]\n",
    "#program to check elements are divisible by 3 or not\n",
    "for x in book_Stock:\n",
    "    if(x%3==0):\n",
    "        print(x,\"is divisible by 3\")\n",
    "    else:\n",
    "        print(x,\"is not divisible by 3\")\n"
   ]
  },
  {
   "cell_type": "code",
   "execution_count": 25,
   "metadata": {},
   "outputs": [
    {
     "name": "stdout",
     "output_type": "stream",
     "text": [
      "The number that are divisble by 3 : [21, 45, 111, 9, 15, 87]\n"
     ]
    }
   ],
   "source": [
    "\n",
    "#another way\n",
    "even_book_stock=[]\n",
    "for x in book_Stock:\n",
    "    if(x%3==0):\n",
    "        even_book_stock.append(x)\n",
    "print(\"The number that are divisble by 3 :\",even_book_stock)\n",
    "\n"
   ]
  },
  {
   "cell_type": "code",
   "execution_count": 26,
   "metadata": {},
   "outputs": [
    {
     "name": "stdout",
     "output_type": "stream",
     "text": [
      "10 it is even so it's square is 100\n",
      "14 it is even so it's square is 196\n",
      "8 it is even so it's square is 64\n",
      "62 it is even so it's square is 3844\n",
      "10 it is even so it's square is 100\n",
      "8 it is even so it's square is 64\n",
      "46 it is even so it's square is 2116\n"
     ]
    }
   ],
   "source": [
    "#program to square all the even values\n",
    "for x in book_Stock:\n",
    "    if(x%2==0):\n",
    "        print(x ,\"it is even so it's square is\",x**2)\n"
   ]
  },
  {
   "cell_type": "code",
   "execution_count": 27,
   "metadata": {},
   "outputs": [
    {
     "name": "stdout",
     "output_type": "stream",
     "text": [
      "158\n"
     ]
    }
   ],
   "source": [
    "#program to sum all the even values\n",
    "sum=0   \n",
    "for x in book_Stock:\n",
    "    if(x%2==0):\n",
    "        sum+=x\n",
    "print(sum)\n"
   ]
  },
  {
   "cell_type": "code",
   "execution_count": 28,
   "metadata": {},
   "outputs": [
    {
     "name": "stdout",
     "output_type": "stream",
     "text": [
      "[10, 14, 5, 7, 8, 11, 21, 45, 62, 13, 111, 9, 15, 87, 46]\n"
     ]
    }
   ],
   "source": [
    "\n",
    "#program to remove duplicate values\n",
    "new_stock=[]\n",
    "for x  in book_Stock:\n",
    "    if x not in new_stock:\n",
    "        new_stock.append(x)\n",
    "print(new_stock)\n"
   ]
  },
  {
   "cell_type": "markdown",
   "metadata": {},
   "source": [
    "2. Dictionary\n",
    "Create a dictionary to store the details of your company employees (name as key and\n",
    "birthdate as value).\n",
    "{ ‘Virat Kohli’: ‘5 November 1988’, ‘Umesh Yadav’: ‘25 October 1987’, ‘Manish Pandey’:\n",
    "‘10 September 1989’, ‘Rohit Sharma’: ‘30 April 1987’, ‘Ravindra Jadeja’: ‘6 December\n",
    "1988’, ‘Hardik Pandya’: ‘11 October 1993’ }\n",
    "Write a function birthDate() that takes the full name of your employees(as a string) and\n",
    "displays the given employee’s birthdate.\n",
    ">>>birthDate(‘Rohit Sharma’)\n",
    "‘30 April 1987’"
   ]
  },
  {
   "cell_type": "code",
   "execution_count": 29,
   "metadata": {},
   "outputs": [
    {
     "name": "stdout",
     "output_type": "stream",
     "text": [
      "The Date of birth of  Bimlesh is 7 june 2000\n"
     ]
    }
   ],
   "source": [
    "def func(cust):\n",
    "    print(\"The Date of birth of \",cust,\"is\",customer[cust])\n",
    "\n",
    "customer={\n",
    "    \"Ravi\":\"10 march 2002\" , \n",
    "    \"Amit\":\"16 april 2012\",\n",
    "    \"Bimlesh\":\"7 june 2000\",\n",
    "    \"John\":\"23 july 2001\",\n",
    "    \"Ayush\":\"26 december 2008\"\n",
    "\n",
    "}\n",
    "\n",
    "cust=input(\"Enter customer name:\")\n",
    "func(cust)\n",
    "\n",
    "\n"
   ]
  }
 ],
 "metadata": {
  "kernelspec": {
   "display_name": "Python 3",
   "language": "python",
   "name": "python3"
  },
  "language_info": {
   "codemirror_mode": {
    "name": "ipython",
    "version": 3
   },
   "file_extension": ".py",
   "mimetype": "text/x-python",
   "name": "python",
   "nbconvert_exporter": "python",
   "pygments_lexer": "ipython3",
   "version": "3.10.6"
  },
  "orig_nbformat": 4
 },
 "nbformat": 4,
 "nbformat_minor": 2
}
